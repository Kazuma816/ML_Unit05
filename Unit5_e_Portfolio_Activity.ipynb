{
  "nbformat": 4,
  "nbformat_minor": 0,
  "metadata": {
    "colab": {
      "provenance": []
    },
    "kernelspec": {
      "name": "python3",
      "display_name": "Python 3"
    },
    "language_info": {
      "name": "python"
    }
  },
  "cells": [
    {
      "cell_type": "code",
      "execution_count": 1,
      "metadata": {
        "id": "zvWFrA1yk42K"
      },
      "outputs": [],
      "source": [
        "#Jaccard coefficient\n",
        "\n",
        "def jaccard_similarity_coefficient(list_a,list_b):\n",
        "\n",
        "    set_intersection = set.intersection(set(list_a), set(list_b))\n",
        "\n",
        "    num_intersection = len(set_intersection)\n",
        "\n",
        "\n",
        "    set_union = set.union(set(list_a), set(list_b))\n",
        "\n",
        "    num_union = len(set_union)\n",
        "\n",
        "    #calculate Jaccard coefficient\n",
        "\n",
        "    try:\n",
        "        return float(num_intersection) / num_union\n",
        "    except ZeroDivisionError:\n",
        "        return 1.0"
      ]
    },
    {
      "cell_type": "code",
      "source": [
        "# make Lists\n",
        "\n",
        "list_Jack = [\"G_M\", \"F_Y\", \"C_N\", \"1_P\", \"2_N\", \"3_N\", \"4_A\"]\n",
        "list_Mary = [\"G_F\", \"F_Y\", \"C_N\", \"1_P\", \"2_A\", \"3_P\", \"4_N\"]\n",
        "list_Jim = [\"G_M\", \"F_Y\", \"C_P\", \"1_N\", \"2_N\", \"3_N\", \"4_A\"]"
      ],
      "metadata": {
        "id": "4ENsY6G1lReb"
      },
      "execution_count": 5,
      "outputs": []
    },
    {
      "cell_type": "code",
      "source": [
        "# Pair1 (Jack, Mary)\n",
        "\n",
        "if __name__== '__main__':\n",
        "  Pair1 = jaccard_similarity_coefficient(list_Jack,list_Mary)\n",
        "  print(Pair1)"
      ],
      "metadata": {
        "colab": {
          "base_uri": "https://localhost:8080/"
        },
        "id": "f2jrGesFlzk6",
        "outputId": "ab5fc173-5f79-4cfc-9a3e-269a23c47d18"
      },
      "execution_count": 6,
      "outputs": [
        {
          "output_type": "stream",
          "name": "stdout",
          "text": [
            "0.2727272727272727\n"
          ]
        }
      ]
    },
    {
      "cell_type": "code",
      "source": [
        "# Pair2 (Jack, Jim)\n",
        "\n",
        "if __name__== '__main__':\n",
        "  Pair2 = jaccard_similarity_coefficient(list_Jack,list_Jim)\n",
        "  print(Pair2)"
      ],
      "metadata": {
        "colab": {
          "base_uri": "https://localhost:8080/"
        },
        "id": "ti8mOdoNmMvO",
        "outputId": "02a29490-e7d3-4fe3-a244-93fefd798bda"
      },
      "execution_count": 7,
      "outputs": [
        {
          "output_type": "stream",
          "name": "stdout",
          "text": [
            "0.5555555555555556\n"
          ]
        }
      ]
    },
    {
      "cell_type": "code",
      "source": [
        "# Pair3 (Jim, Mary)\n",
        "\n",
        "if __name__== '__main__':\n",
        "  Pair3 = jaccard_similarity_coefficient(list_Jim,list_Mary)\n",
        "  print(Pair3)"
      ],
      "metadata": {
        "colab": {
          "base_uri": "https://localhost:8080/"
        },
        "id": "r32uXz5CnSLo",
        "outputId": "f46c6bc0-3d13-4f6d-9126-2e8962410bdc"
      },
      "execution_count": 8,
      "outputs": [
        {
          "output_type": "stream",
          "name": "stdout",
          "text": [
            "0.07692307692307693\n"
          ]
        }
      ]
    },
    {
      "cell_type": "markdown",
      "source": [
        "Pair1 (Jack, Mary)\n",
        "\n",
        "Jaccard coefficient = 0.2727\n",
        "\n",
        "Pair2 (Jack, Jim)\n",
        "\n",
        "Jaccard coefficient = 0.5556\n",
        "\n",
        "Pair3 (Jim, Mary)\n",
        "\n",
        "Jaccard coefficient = 0.0769"
      ],
      "metadata": {
        "id": "24NnOOBtnahr"
      }
    }
  ]
}